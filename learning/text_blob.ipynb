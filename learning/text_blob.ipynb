{
 "cells": [
  {
   "cell_type": "code",
   "id": "initial_id",
   "metadata": {
    "collapsed": true,
    "ExecuteTime": {
     "end_time": "2025-03-13T09:43:25.606611Z",
     "start_time": "2025-03-13T09:43:25.458868Z"
    }
   },
   "source": [
    "from textblob import TextBlob\n",
    "\n",
    "text = \"I tri to anderstent thiz programing...\"\n",
    "\n",
    "text_blob = TextBlob(text)\n",
    "print(text_blob)\n",
    "\n",
    "correct = text_blob.correct()\n",
    "\n",
    "print(correct)"
   ],
   "outputs": [
    {
     "name": "stdout",
     "output_type": "stream",
     "text": [
      "I tri to anderstent thiz programing...\n",
      "I try to anderstent this programming...\n"
     ]
    }
   ],
   "execution_count": 2
  },
  {
   "metadata": {},
   "cell_type": "code",
   "outputs": [],
   "execution_count": null,
   "source": "",
   "id": "3ede47f5a8eb6889"
  }
 ],
 "metadata": {
  "kernelspec": {
   "display_name": "Python 3",
   "language": "python",
   "name": "python3"
  },
  "language_info": {
   "codemirror_mode": {
    "name": "ipython",
    "version": 2
   },
   "file_extension": ".py",
   "mimetype": "text/x-python",
   "name": "python",
   "nbconvert_exporter": "python",
   "pygments_lexer": "ipython2",
   "version": "2.7.6"
  }
 },
 "nbformat": 4,
 "nbformat_minor": 5
}

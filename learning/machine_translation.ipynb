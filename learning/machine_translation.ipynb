{
 "cells": [
  {
   "cell_type": "code",
   "id": "initial_id",
   "metadata": {
    "collapsed": true,
    "ExecuteTime": {
     "end_time": "2025-03-13T09:37:42.212154Z",
     "start_time": "2025-03-13T09:37:41.466524Z"
    }
   },
   "source": [
    "from translate import Translator\n",
    "\n",
    "rus_translator = Translator(to_lang='ru')\n",
    "\n",
    "text = \"Hello, I've just got started learning NLP and meeting with all it's features\"\n",
    "\n",
    "translation = rus_translator.translate(text)\n",
    "print(translation)"
   ],
   "outputs": [
    {
     "name": "stdout",
     "output_type": "stream",
     "text": [
      "Здравствуйте, я только начал изучать НЛП и знакомлюсь со всеми его возможностями\n"
     ]
    }
   ],
   "execution_count": 3
  },
  {
   "metadata": {},
   "cell_type": "code",
   "outputs": [],
   "execution_count": null,
   "source": "",
   "id": "1b48a702381adaf0"
  }
 ],
 "metadata": {
  "kernelspec": {
   "display_name": "Python 3",
   "language": "python",
   "name": "python3"
  },
  "language_info": {
   "codemirror_mode": {
    "name": "ipython",
    "version": 2
   },
   "file_extension": ".py",
   "mimetype": "text/x-python",
   "name": "python",
   "nbconvert_exporter": "python",
   "pygments_lexer": "ipython2",
   "version": "2.7.6"
  }
 },
 "nbformat": 4,
 "nbformat_minor": 5
}

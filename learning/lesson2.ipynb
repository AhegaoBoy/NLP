{
 "cells": [
  {
   "cell_type": "code",
   "id": "initial_id",
   "metadata": {
    "collapsed": true,
    "ExecuteTime": {
     "end_time": "2025-03-13T08:13:15.904503Z",
     "start_time": "2025-03-13T08:13:15.900844Z"
    }
   },
   "source": [
    "import nltk\n",
    "from nltk.util import ngrams\n",
    "from nltk.tokenize import word_tokenize\n",
    "text = \"I am learning NLP(Natural Language Processing)\"\n",
    "tokens = word_tokenize(text)\n",
    "\n",
    "bigrams = ngrams(tokens, 2)\n",
    "print(bigrams)\n",
    "\n",
    "trigrams = ngrams(tokens, 3)\n",
    "print(trigrams)\n",
    "\n",
    "n_grams = ngrams(tokens, 4)\n",
    "print(n_grams)"
   ],
   "outputs": [
    {
     "name": "stdout",
     "output_type": "stream",
     "text": [
      "<generator object ngrams at 0x11d60d440>\n",
      "<generator object ngrams at 0x11d0a1640>\n",
      "<generator object ngrams at 0x11d0a1740>\n"
     ]
    }
   ],
   "execution_count": 4
  },
  {
   "metadata": {
    "ExecuteTime": {
     "end_time": "2025-03-13T08:13:16.775168Z",
     "start_time": "2025-03-13T08:13:16.772037Z"
    }
   },
   "cell_type": "code",
   "source": [
    "print('bigrams', list(bigrams), '\\n')\n",
    "print('trigrams', list(trigrams), '\\n')\n",
    "print('ngrams', list(n_grams), '\\n')"
   ],
   "id": "3446ac7d602a7ac5",
   "outputs": [
    {
     "name": "stdout",
     "output_type": "stream",
     "text": [
      "bigrams [('I', 'am'), ('am', 'learning'), ('learning', 'NLP'), ('NLP', '('), ('(', 'Natural'), ('Natural', 'Language'), ('Language', 'Processing'), ('Processing', ')')] \n",
      "\n",
      "trigrams [('I', 'am', 'learning'), ('am', 'learning', 'NLP'), ('learning', 'NLP', '('), ('NLP', '(', 'Natural'), ('(', 'Natural', 'Language'), ('Natural', 'Language', 'Processing'), ('Language', 'Processing', ')')] \n",
      "\n",
      "ngrams [('I', 'am', 'learning', 'NLP'), ('am', 'learning', 'NLP', '('), ('learning', 'NLP', '(', 'Natural'), ('NLP', '(', 'Natural', 'Language'), ('(', 'Natural', 'Language', 'Processing'), ('Natural', 'Language', 'Processing', ')')] \n",
      "\n"
     ]
    }
   ],
   "execution_count": 5
  },
  {
   "metadata": {},
   "cell_type": "code",
   "outputs": [],
   "execution_count": null,
   "source": "",
   "id": "a34cbb0137cd7456"
  }
 ],
 "metadata": {
  "kernelspec": {
   "display_name": "Python 3",
   "language": "python",
   "name": "python3"
  },
  "language_info": {
   "codemirror_mode": {
    "name": "ipython",
    "version": 2
   },
   "file_extension": ".py",
   "mimetype": "text/x-python",
   "name": "python",
   "nbconvert_exporter": "python",
   "pygments_lexer": "ipython2",
   "version": "2.7.6"
  }
 },
 "nbformat": 4,
 "nbformat_minor": 5
}
